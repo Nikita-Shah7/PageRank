{
  "nbformat": 4,
  "nbformat_minor": 0,
  "metadata": {
    "colab": {
      "provenance": []
    },
    "kernelspec": {
      "name": "python3",
      "display_name": "Python 3"
    },
    "language_info": {
      "name": "python"
    }
  },
  "cells": [
    {
      "cell_type": "markdown",
      "source": [
        "# PAGERANK COMPUTATION USING APACHE SPARK:"
      ],
      "metadata": {
        "id": "07hdVEHJGJVN"
      }
    },
    {
      "cell_type": "markdown",
      "source": [
        "Using Apache Spark, PageRank can be implemented efficiently to process large-scale web graphs. Spark's in-memory processing and iterative computation capabilities make it well-suited for PageRank, which requires multiple iterations to compute stable rankings. Spark’s Resilient Distributed Datasets (RDDs) and its graph-processing library, GraphX, simplify the implementation by abstracting complex operations and managing distributed data seamlessly.\n"
      ],
      "metadata": {
        "id": "XGjXybvjGFOR"
      }
    },
    {
      "cell_type": "code",
      "execution_count": null,
      "metadata": {
        "id": "vEsdoyRxiZvI"
      },
      "outputs": [],
      "source": [
        "!pip install --quiet pyspark"
      ]
    },
    {
      "cell_type": "code",
      "source": [
        "from google.colab import drive\n",
        "drive.mount(\"/content/gdrive\")"
      ],
      "metadata": {
        "id": "4-Zh6yeeiem5"
      },
      "execution_count": null,
      "outputs": []
    },
    {
      "cell_type": "code",
      "source": [
        "from pyspark import SparkContext, SparkConf\n",
        "conf = SparkConf().setAppName(\"word count\").setMaster(\"local\")\n",
        "sc = SparkContext(conf=conf)"
      ],
      "metadata": {
        "id": "kDj_iUiFicm5"
      },
      "execution_count": null,
      "outputs": []
    },
    {
      "cell_type": "code",
      "source": [
        "import time"
      ],
      "metadata": {
        "id": "vhXS3Fkeiq74"
      },
      "execution_count": null,
      "outputs": []
    },
    {
      "cell_type": "code",
      "source": [
        "## spark_input.txt\n",
        "# 1 31\n",
        "# 1 12\n",
        "# 1 82\n",
        "# 1 42\n",
        "# 1 58\n",
        "# 2 18\n",
        "# 2 94\n",
        "# 2 15\n",
        "\n",
        "\n",
        "# n = float(input(\"Enter Total Number of Node: \"))\n",
        "n = 100.0\n",
        "print(\"Enter Total Number of Node: \",n)"
      ],
      "metadata": {
        "colab": {
          "base_uri": "https://localhost:8080/"
        },
        "id": "MPPDO7z7jBtl",
        "outputId": "83dd4f83-8891-4a52-b85a-e002ce63ddbd"
      },
      "execution_count": null,
      "outputs": [
        {
          "output_type": "stream",
          "name": "stdout",
          "text": [
            "Enter Total Number of Node:  100.0\n"
          ]
        }
      ]
    },
    {
      "cell_type": "code",
      "source": [
        "spark_input_lines = sc.textFile(\"/content/spark_input.txt\")"
      ],
      "metadata": {
        "id": "Ga1uSagEkfKB"
      },
      "execution_count": null,
      "outputs": []
    },
    {
      "cell_type": "markdown",
      "source": [
        "## Mapping Values and generating Key-Value Pairs"
      ],
      "metadata": {
        "id": "EtE3mQ2AFhe5"
      }
    },
    {
      "cell_type": "code",
      "source": [
        "links = spark_input_lines.map(lambda s: tuple(s.split())).distinct().groupByKey().cache()\n",
        "\n",
        "# initialize ranks\n",
        "# (1, 0.01)\n",
        "# (2, 0.01)\n",
        "ranks = links.mapValues(lambda v: float(1/n))\n",
        "\n",
        "## links::\n",
        "# (1, [31, 12, 82, 42, 58])\n",
        "# (2, [18, 94, 15])"
      ],
      "metadata": {
        "id": "xgemWkYVjDyi"
      },
      "execution_count": null,
      "outputs": []
    },
    {
      "cell_type": "markdown",
      "source": [
        "## Execution Time Without Sorting:"
      ],
      "metadata": {
        "id": "fg2beuspFpY3"
      }
    },
    {
      "cell_type": "code",
      "source": [
        "start_time = time.time()\n",
        "iters = 30\n",
        "for i in range(1, iters + 1):\n",
        "        contribs = links.join(ranks).values().flatMap(lambda x: [(url, x[1] / len(x[0])) for url in x[0]])\n",
        "\n",
        "        # NewRank = 0.15*(1/n) + 0.85*AggregatedRank\n",
        "        # This balances random jumps(0.15) and rank propagation(0.85)\n",
        "        ranks = contribs.reduceByKey(lambda x, y: x + y).mapValues(lambda rank: 0.15*(float(1/n)) + 0.85 * rank)\n",
        "\n",
        "distributed_page_ranks = ranks.collect()\n",
        "end_time = time.time()\n",
        "print(\"Time taken = {:.2f} seconds \".format(end_time - start_time))"
      ],
      "metadata": {
        "colab": {
          "base_uri": "https://localhost:8080/"
        },
        "id": "cEsgcp2ykLnP",
        "outputId": "e3556b82-8ee8-425a-cab3-023f3e3256ed"
      },
      "execution_count": null,
      "outputs": [
        {
          "output_type": "stream",
          "name": "stdout",
          "text": [
            "Time taken = 16.83 seconds \n"
          ]
        }
      ]
    },
    {
      "cell_type": "code",
      "source": [
        "for rank in distributed_page_ranks:\n",
        "    print(rank[0] + \" has rank: \" + str(rank[1]) + \".\")"
      ],
      "metadata": {
        "colab": {
          "base_uri": "https://localhost:8080/"
        },
        "collapsed": true,
        "id": "GKamz7DAnXrE",
        "outputId": "a08d512d-5b32-49c1-cefe-1d22da6ba14c"
      },
      "execution_count": null,
      "outputs": [
        {
          "output_type": "stream",
          "name": "stdout",
          "text": [
            "31 has rank: 0.007912909048990807.\n",
            "12 has rank: 0.0029002702076193396.\n",
            "82 has rank: 0.004300015762032965.\n",
            "42 has rank: 0.0068519929455248315.\n",
            "58 has rank: 0.002555752339031856.\n",
            "18 has rank: 0.00853563895695363.\n",
            "94 has rank: 0.011459293937537876.\n",
            "15 has rank: 0.005903534626598428.\n",
            "51 has rank: 0.0029102797201208015.\n",
            "68 has rank: 0.014834997221698754.\n",
            "41 has rank: 0.005657997641382228.\n",
            "17 has rank: 0.0029542802386190153.\n",
            "87 has rank: 0.004221202436274588.\n",
            "52 has rank: 0.005810643895646598.\n",
            "65 has rank: 0.004063834902536787.\n",
            "47 has rank: 0.004790322252899333.\n",
            "22 has rank: 0.004150935690092405.\n",
            "59 has rank: 0.0062592520387759875.\n",
            "53 has rank: 0.0045341970430504575.\n",
            "90 has rank: 0.00561464759290067.\n",
            "70 has rank: 0.00498891766662224.\n",
            "11 has rank: 0.005117182597508121.\n",
            "48 has rank: 0.004066676182030435.\n",
            "9 has rank: 0.0059410335328304986.\n",
            "56 has rank: 0.011666468124454463.\n",
            "62 has rank: 0.005829629066034387.\n",
            "30 has rank: 0.004923465529542245.\n",
            "10 has rank: 0.009397590437605184.\n",
            "74 has rank: 0.005459547896095044.\n",
            "72 has rank: 0.005412346514458953.\n",
            "35 has rank: 0.004566633272132777.\n",
            "91 has rank: 0.005350106628071637.\n",
            "71 has rank: 0.006166305476839289.\n",
            "75 has rank: 0.010511580949481038.\n",
            "81 has rank: 0.006111108396355421.\n",
            "93 has rank: 0.005400042868998431.\n",
            "8 has rank: 0.00905151074564135.\n",
            "34 has rank: 0.008078084848981978.\n",
            "92 has rank: 0.005899833124825551.\n",
            "84 has rank: 0.011866585080142008.\n",
            "2 has rank: 0.0034987330504551526.\n",
            "77 has rank: 0.0021213721733457772.\n",
            "54 has rank: 0.006715841999586081.\n",
            "14 has rank: 0.006354453283942071.\n",
            "85 has rank: 0.010670528432968583.\n",
            "43 has rank: 0.0017547575896255216.\n",
            "100 has rank: 0.005661607124371568.\n",
            "89 has rank: 0.005579452399068355.\n",
            "40 has rank: 0.0031658645151649454.\n",
            "1 has rank: 0.004009002219337957.\n",
            "38 has rank: 0.007122208900285259.\n",
            "63 has rank: 0.0029177386914480867.\n",
            "79 has rank: 0.0018566606254757302.\n",
            "99 has rank: 0.005919033887743501.\n",
            "21 has rank: 0.018570010746616943.\n",
            "29 has rank: 0.012651967356613782.\n",
            "7 has rank: 0.009690563368754545.\n",
            "64 has rank: 0.002088049223283931.\n",
            "49 has rank: 0.008565875732645582.\n",
            "46 has rank: 0.00455023120914772.\n",
            "76 has rank: 0.005948825044441152.\n",
            "73 has rank: 0.007384687064140154.\n",
            "32 has rank: 0.006192809892409555.\n",
            "25 has rank: 0.00471365429201849.\n",
            "83 has rank: 0.0071266407907408635.\n",
            "37 has rank: 0.004528064601024142.\n",
            "24 has rank: 0.0077728311611512686.\n",
            "97 has rank: 0.006833379584467999.\n",
            "78 has rank: 0.005639200157192686.\n",
            "96 has rank: 0.010191068116107094.\n",
            "67 has rank: 0.004752049656309706.\n",
            "26 has rank: 0.005779097870511837.\n",
            "39 has rank: 0.003424427457467968.\n",
            "86 has rank: 0.00639171289767099.\n",
            "80 has rank: 0.0037176088057374592.\n",
            "33 has rank: 0.003958284852996188.\n",
            "66 has rank: 0.004695001011618862.\n",
            "5 has rank: 0.00512829340240668.\n",
            "61 has rank: 0.005863997332501527.\n",
            "23 has rank: 0.003221291256354898.\n",
            "3 has rank: 0.002930376400630883.\n",
            "88 has rank: 0.003526209555105636.\n",
            "27 has rank: 0.002142344581573829.\n",
            "98 has rank: 0.005793369372161912.\n",
            "36 has rank: 0.0046963321854689676.\n",
            "55 has rank: 0.0022013056527124325.\n",
            "60 has rank: 0.004040330024564713.\n",
            "44 has rank: 0.0041136915703150695.\n",
            "45 has rank: 0.006093379390034971.\n",
            "69 has rank: 0.0042500915195978085.\n",
            "50 has rank: 0.0037337109552186645.\n",
            "28 has rank: 0.00992327585969756.\n",
            "95 has rank: 0.0018945403829368046.\n",
            "13 has rank: 0.0020980036788059426.\n",
            "16 has rank: 0.0020980036788059426.\n"
          ]
        }
      ]
    },
    {
      "cell_type": "markdown",
      "source": [
        "## Execution Time With Sorting:"
      ],
      "metadata": {
        "id": "zzwceq8WFzUy"
      }
    },
    {
      "cell_type": "code",
      "source": [
        "start_time = time.time()\n",
        "iters = 30\n",
        "for i in range(1, iters + 1):\n",
        "        contribs = links.join(ranks).values().flatMap(lambda x: [(url, x[1] / len(x[0])) for url in x[0]])\n",
        "\n",
        "        # NewRank = 0.15*(1/n) + 0.85*AggregatedRank\n",
        "        # This balances random jumps(0.15) and rank propagation(0.85)\n",
        "        ranks = contribs.reduceByKey(lambda x, y: x + y).mapValues(lambda rank: 0.15*(float(1/n)) + 0.85 * rank)\n",
        "\n",
        "distributed_sorted_page_ranks = sorted(ranks.collect(), key=lambda x: x[1], reverse=True)\n",
        "end_time = time.time()\n",
        "print(\"Time taken = {:.2f} seconds \".format(end_time - start_time))"
      ],
      "metadata": {
        "colab": {
          "base_uri": "https://localhost:8080/"
        },
        "id": "TL2umTXenx9T",
        "outputId": "976603cf-5d22-491a-fe5d-f1947e5a7e4d"
      },
      "execution_count": null,
      "outputs": [
        {
          "output_type": "stream",
          "name": "stdout",
          "text": [
            "Time taken = 15.10 seconds \n"
          ]
        }
      ]
    },
    {
      "cell_type": "code",
      "source": [
        "for rank in distributed_sorted_page_ranks:\n",
        "    print(rank[0] + \" has rank: \" + str(rank[1]) + \".\")"
      ],
      "metadata": {
        "colab": {
          "base_uri": "https://localhost:8080/"
        },
        "collapsed": true,
        "id": "ZIfcxTggnyYr",
        "outputId": "0977a799-1be7-4c1c-a173-47ca8ff9baf0"
      },
      "execution_count": null,
      "outputs": [
        {
          "output_type": "stream",
          "name": "stdout",
          "text": [
            "21 has rank: 0.01857001067867647.\n",
            "68 has rank: 0.014834997168476199.\n",
            "29 has rank: 0.012651967304744181.\n",
            "84 has rank: 0.01186658503716918.\n",
            "56 has rank: 0.011666468082602013.\n",
            "94 has rank: 0.011459293892284282.\n",
            "85 has rank: 0.010670528389787855.\n",
            "75 has rank: 0.010511580907549844.\n",
            "96 has rank: 0.010191068078801001.\n",
            "28 has rank: 0.009923275820605369.\n",
            "7 has rank: 0.009690563328640222.\n",
            "10 has rank: 0.00939759040767489.\n",
            "8 has rank: 0.009051510713942881.\n",
            "49 has rank: 0.008565875702038187.\n",
            "18 has rank: 0.008535638926668225.\n",
            "34 has rank: 0.008078084823032745.\n",
            "31 has rank: 0.007912909023144045.\n",
            "24 has rank: 0.007772831138870609.\n",
            "73 has rank: 0.007384687041864331.\n",
            "83 has rank: 0.007126640764617028.\n",
            "38 has rank: 0.0071222088743474275.\n",
            "42 has rank: 0.006851992924282962.\n",
            "97 has rank: 0.006833379561105609.\n",
            "54 has rank: 0.006715841976995648.\n",
            "86 has rank: 0.006391712874028642.\n",
            "14 has rank: 0.006354453267559302.\n",
            "59 has rank: 0.006259252022483876.\n",
            "32 has rank: 0.006192809878785406.\n",
            "71 has rank: 0.006166305456464585.\n",
            "81 has rank: 0.0061111083787996675.\n",
            "45 has rank: 0.006093379367100653.\n",
            "76 has rank: 0.005948825024881152.\n",
            "9 has rank: 0.005941033513093576.\n",
            "99 has rank: 0.005919033879452.\n",
            "15 has rank: 0.005903534608184184.\n",
            "92 has rank: 0.005899833109115243.\n",
            "61 has rank: 0.005863997315316793.\n",
            "62 has rank: 0.005829629049110618.\n",
            "52 has rank: 0.005810643875986697.\n",
            "98 has rank: 0.005793369355803284.\n",
            "26 has rank: 0.005779097853026712.\n",
            "100 has rank: 0.005661607111523531.\n",
            "41 has rank: 0.005657997622134472.\n",
            "78 has rank: 0.005639200138258631.\n",
            "90 has rank: 0.005614647574605456.\n",
            "89 has rank: 0.005579452381270609.\n",
            "74 has rank: 0.005459547879844135.\n",
            "72 has rank: 0.005412346494695117.\n",
            "93 has rank: 0.005400042852832937.\n",
            "91 has rank: 0.005350106611118765.\n",
            "5 has rank: 0.005128293391174219.\n",
            "11 has rank: 0.005117182580698523.\n",
            "70 has rank: 0.004988917650956336.\n",
            "30 has rank: 0.0049234655146209.\n",
            "47 has rank: 0.004790322240162426.\n",
            "67 has rank: 0.004752049644238117.\n",
            "25 has rank: 0.004713654275376037.\n",
            "36 has rank: 0.004696332174091355.\n",
            "66 has rank: 0.004695001000640667.\n",
            "35 has rank: 0.004566633261882037.\n",
            "46 has rank: 0.004550231197636012.\n",
            "53 has rank: 0.004534197034400387.\n",
            "37 has rank: 0.004528064588685512.\n",
            "82 has rank: 0.004300015753010025.\n",
            "69 has rank: 0.004250091507881401.\n",
            "87 has rank: 0.004221202430197697.\n",
            "22 has rank: 0.004150935680607833.\n",
            "44 has rank: 0.004113691558915934.\n",
            "48 has rank: 0.004066676169640741.\n",
            "65 has rank: 0.004063834894086151.\n",
            "60 has rank: 0.0040403300129168256.\n",
            "1 has rank: 0.004009002208478442.\n",
            "33 has rank: 0.0039582848443155665.\n",
            "50 has rank: 0.003733710942854528.\n",
            "80 has rank: 0.0037176087955067805.\n",
            "88 has rank: 0.0035262095498500667.\n",
            "2 has rank: 0.0034987330424067864.\n",
            "39 has rank: 0.0034244274501914517.\n",
            "23 has rank: 0.003221291250358585.\n",
            "40 has rank: 0.003165864512937892.\n",
            "17 has rank: 0.0029542802359456954.\n",
            "3 has rank: 0.002930376395748311.\n",
            "63 has rank: 0.002917738688176363.\n",
            "51 has rank: 0.002910279714415854.\n",
            "12 has rank: 0.002900270203660566.\n",
            "58 has rank: 0.0025557523362279002.\n",
            "55 has rank: 0.002201305651685427.\n",
            "27 has rank: 0.002142344579873414.\n",
            "77 has rank: 0.002121372170513435.\n",
            "13 has rank: 0.0020980036776113583.\n",
            "16 has rank: 0.0020980036776113583.\n",
            "64 has rank: 0.002088049221419471.\n",
            "95 has rank: 0.0018945403828537124.\n",
            "79 has rank: 0.0018566606251939352.\n",
            "43 has rank: 0.0017547575894242395.\n"
          ]
        }
      ]
    }
  ]
}